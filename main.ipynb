{
 "cells": [
  {
   "cell_type": "code",
   "execution_count": 34,
   "id": "3cbafc96-e56b-43bf-aa85-37f98c918b2c",
   "metadata": {},
   "outputs": [],
   "source": [
    "# Importing the required python libraries\n",
    "\n",
    "import numpy as np\n",
    "import pandas as pd\n",
    "from matplotlib import pyplot as plt"
   ]
  },
  {
   "cell_type": "code",
   "execution_count": 2,
   "id": "e7ec81bc-05b0-4a6f-862e-9061f733fa90",
   "metadata": {},
   "outputs": [],
   "source": [
    "# Loading the data from the csv file into a pandas dataframe\n",
    "\n",
    "df = pd.read_csv(\"data/1000_Companies.csv\")"
   ]
  },
  {
   "cell_type": "code",
   "execution_count": 3,
   "id": "f8eae5f1-cfd7-4266-b390-0a9ee0126c29",
   "metadata": {},
   "outputs": [
    {
     "data": {
      "text/html": [
       "<div>\n",
       "<style scoped>\n",
       "    .dataframe tbody tr th:only-of-type {\n",
       "        vertical-align: middle;\n",
       "    }\n",
       "\n",
       "    .dataframe tbody tr th {\n",
       "        vertical-align: top;\n",
       "    }\n",
       "\n",
       "    .dataframe thead th {\n",
       "        text-align: right;\n",
       "    }\n",
       "</style>\n",
       "<table border=\"1\" class=\"dataframe\">\n",
       "  <thead>\n",
       "    <tr style=\"text-align: right;\">\n",
       "      <th></th>\n",
       "      <th>R&amp;D Spend</th>\n",
       "      <th>Administration</th>\n",
       "      <th>Marketing Spend</th>\n",
       "      <th>State</th>\n",
       "      <th>Profit</th>\n",
       "    </tr>\n",
       "  </thead>\n",
       "  <tbody>\n",
       "    <tr>\n",
       "      <th>0</th>\n",
       "      <td>165349.20</td>\n",
       "      <td>136897.80</td>\n",
       "      <td>471784.10</td>\n",
       "      <td>New York</td>\n",
       "      <td>192261.83</td>\n",
       "    </tr>\n",
       "    <tr>\n",
       "      <th>1</th>\n",
       "      <td>162597.70</td>\n",
       "      <td>151377.59</td>\n",
       "      <td>443898.53</td>\n",
       "      <td>California</td>\n",
       "      <td>191792.06</td>\n",
       "    </tr>\n",
       "    <tr>\n",
       "      <th>2</th>\n",
       "      <td>153441.51</td>\n",
       "      <td>101145.55</td>\n",
       "      <td>407934.54</td>\n",
       "      <td>Florida</td>\n",
       "      <td>191050.39</td>\n",
       "    </tr>\n",
       "    <tr>\n",
       "      <th>3</th>\n",
       "      <td>144372.41</td>\n",
       "      <td>118671.85</td>\n",
       "      <td>383199.62</td>\n",
       "      <td>New York</td>\n",
       "      <td>182901.99</td>\n",
       "    </tr>\n",
       "    <tr>\n",
       "      <th>4</th>\n",
       "      <td>142107.34</td>\n",
       "      <td>91391.77</td>\n",
       "      <td>366168.42</td>\n",
       "      <td>Florida</td>\n",
       "      <td>166187.94</td>\n",
       "    </tr>\n",
       "  </tbody>\n",
       "</table>\n",
       "</div>"
      ],
      "text/plain": [
       "   R&D Spend  Administration  Marketing Spend       State     Profit\n",
       "0  165349.20       136897.80        471784.10    New York  192261.83\n",
       "1  162597.70       151377.59        443898.53  California  191792.06\n",
       "2  153441.51       101145.55        407934.54     Florida  191050.39\n",
       "3  144372.41       118671.85        383199.62    New York  182901.99\n",
       "4  142107.34        91391.77        366168.42     Florida  166187.94"
      ]
     },
     "execution_count": 3,
     "metadata": {},
     "output_type": "execute_result"
    }
   ],
   "source": [
    "# Viewing the first 5 rows of data\n",
    "\n",
    "df.head()"
   ]
  },
  {
   "cell_type": "code",
   "execution_count": 4,
   "id": "dd76d78f-fbe9-40eb-960a-a73bdc7f551d",
   "metadata": {},
   "outputs": [
    {
     "name": "stdout",
     "output_type": "stream",
     "text": [
      "(1000, 5)\n",
      "5000\n",
      "1000\n"
     ]
    }
   ],
   "source": [
    "# Displaying the shape and the size of the dataset\n",
    "\n",
    "print(df.shape)\n",
    "print(df.size)\n",
    "print(len(df))"
   ]
  },
  {
   "cell_type": "code",
   "execution_count": 5,
   "id": "fe6e95e5-855b-42c1-966b-1918e8e7aced",
   "metadata": {},
   "outputs": [
    {
     "data": {
      "image/png": "[encoded data removed]",
      "text/plain": [
       "<Figure size 432x288 with 1 Axes>"
      ]
     },
     "metadata": {
      "needs_background": "light"
     },
     "output_type": "display_data"
    }
   ],
   "source": [
    "# Visualising the relationship between the input variable \"R&D Spend\" and the output variable \"Profit\" as a line plot\n",
    "\n",
    "line_plot = df.plot.line(x='R&D Spend', y='Profit')"
   ]
  },
  {
   "cell_type": "code",
   "execution_count": 17,
   "id": "b0702d26-e26c-4dc3-99f4-fca6818a7e53",
   "metadata": {},
   "outputs": [
    {
     "data": {
      "image/png": "[encoded data removed]",
      "text/plain": [
       "<Figure size 432x288 with 1 Axes>"
      ]
     },
     "metadata": {
      "needs_background": "light"
     },
     "output_type": "display_data"
    }
   ],
   "source": [
    "# Visualising the relationship between the input variable \"R&D Spend\" and the output variable \"Profit\" as a scatter plot\n",
    "\n",
    "scatter_plot = df.plot.scatter(x='R&D Spend', y='Profit')"
   ]
  },
  {
   "cell_type": "code",
   "execution_count": 6,
   "id": "6ffa0cbe-b7c4-4308-9293-d3a4909bbc04",
   "metadata": {},
   "outputs": [
    {
     "name": "stdout",
     "output_type": "stream",
     "text": [
      "The mean of the input variable 'R&D Spend':  81668.9272\n"
     ]
    }
   ],
   "source": [
    "# Calculating the mean of the input variable \"R&D Spend\"\n",
    "\n",
    "mean_rd_spend = sum(df['R&D Spend'])/float(len(df['R&D Spend']))\n",
    "print(\"The mean of the input variable 'R&D Spend': \", mean_rd_spend)"
   ]
  },
  {
   "cell_type": "code",
   "execution_count": 7,
   "id": "e09146db-345c-4c02-a639-b9672fdccc03",
   "metadata": {},
   "outputs": [
    {
     "name": "stdout",
     "output_type": "stream",
     "text": [
      "The mean of the output variable 'Profit':  119546.1646556102\n"
     ]
    }
   ],
   "source": [
    "# Calculating the mean of the output variable \"Profit\"\n",
    "\n",
    "mean_profit = sum(df['Profit'])/float(len(df['Profit']))\n",
    "print(\"The mean of the output variable 'Profit': \", mean_profit)"
   ]
  },
  {
   "cell_type": "code",
   "execution_count": 8,
   "id": "a015e903-8fa0-48c3-82bd-a2681c858a0a",
   "metadata": {},
   "outputs": [],
   "source": [
    "# Defining a function to calculate the variance of the input variable \"R&D Spend\"\n",
    "\n",
    "def variance(values, mean):\n",
    "    return sum([value-mean**2 for value in values])"
   ]
  },
  {
   "cell_type": "code",
   "execution_count": 9,
   "id": "b0a4cece-9516-4e72-92c9-e3110a186f41",
   "metadata": {},
   "outputs": [],
   "source": [
    "# Defining a function to calculate the co-variance between the input variable and the output variable\n",
    "\n",
    "def co_variance(rd_spend, mean_rd_spend, profit, mean_profit):\n",
    "    covariance = 0.0\n",
    "    for i in range(len(df['Profit'])):\n",
    "        covariance = covariance + ((rd_spend[i]-mean_rd_spend) * (profit[i]-mean_profit))\n",
    "    return covariance\n",
    "    "
   ]
  },
  {
   "cell_type": "code",
   "execution_count": 10,
   "id": "62d6158c-29ec-4569-950c-74b8283bf554",
   "metadata": {},
   "outputs": [
    {
     "name": "stdout",
     "output_type": "stream",
     "text": [
      "The variance of the input variable 'R&D Spend':  -6669732001071.763\n"
     ]
    }
   ],
   "source": [
    "# Calculating the variance of the input variable \"R&D Spend\"\n",
    "\n",
    "variance_rd_spend = variance(df['R&D Spend'], mean_rd_spend)\n",
    "print(\"The variance of the input variable 'R&D Spend': \", variance_rd_spend)"
   ]
  },
  {
   "cell_type": "code",
   "execution_count": 11,
   "id": "48119132-47bf-4680-a24e-50551ef20fc6",
   "metadata": {},
   "outputs": [
    {
     "name": "stdout",
     "output_type": "stream",
     "text": [
      "The variance of the output variable 'Profit':  -14291165937701.623\n"
     ]
    }
   ],
   "source": [
    "# Calculating the variance of the output variable \"Profit\"\n",
    "\n",
    "variance_profit = variance(df['Profit'], mean_profit)\n",
    "print(\"The variance of the output variable 'Profit': \", variance_profit)"
   ]
  },
  {
   "cell_type": "code",
   "execution_count": 12,
   "id": "5589cda6-980c-4174-a6ab-e50860b62f49",
   "metadata": {},
   "outputs": [
    {
     "name": "stdout",
     "output_type": "stream",
     "text": [
      "the co-variance between the input variable 'R&D Spend' and the output variable 'Profit':  1884759344610.1313\n"
     ]
    }
   ],
   "source": [
    "# Calculating the co-variance between the input variable and the output variable\n",
    "\n",
    "covariance_rdspend_profit = co_variance(df['R&D Spend'], mean_rd_spend, df['Profit'], mean_profit)\n",
    "print(\"the co-variance between the input variable 'R&D Spend' and the output variable 'Profit': \", covariance_rdspend_profit)"
   ]
  },
  {
   "cell_type": "code",
   "execution_count": 13,
   "id": "957afbfb-b807-411d-88d5-78c61fcdf921",
   "metadata": {},
   "outputs": [],
   "source": [
    "# Linear Equation \"Y = mx + c\""
   ]
  },
  {
   "cell_type": "code",
   "execution_count": 14,
   "id": "b200cc24-d115-47ad-b3fa-06c86a02996f",
   "metadata": {},
   "outputs": [
    {
     "name": "stdout",
     "output_type": "stream",
     "text": [
      "The slope 'm' value of the input variable 'R&D Spend':  -0.2825839695368972\n"
     ]
    }
   ],
   "source": [
    "# Calculating the slope \"m\" of the input variable \"x\" i.e.; \"\"R&D Spend\"\n",
    "\n",
    "m = covariance_rdspend_profit/variance_rd_spend\n",
    "print(\"The slope 'm' value of the input variable 'R&D Spend': \", m)"
   ]
  },
  {
   "cell_type": "code",
   "execution_count": 15,
   "id": "4cf414ca-cefd-488d-b70e-c23e0842d3c1",
   "metadata": {},
   "outputs": [
    {
     "name": "stdout",
     "output_type": "stream",
     "text": [
      "The intercept 'c' value of the linear equation: 142624.49429160607\n"
     ]
    }
   ],
   "source": [
    "# Calculating the intercept \"c\" of the linear equation\n",
    "\n",
    "c = mean_profit - (m * mean_rd_spend)\n",
    "print(\"The intercept 'c' value of the linear equation:\", c)"
   ]
  },
  {
   "cell_type": "code",
   "execution_count": null,
   "id": "e463512c-44b0-4a70-9151-9c7c516fc251",
   "metadata": {},
   "outputs": [],
   "source": [
    "# Linear Equation \"Y = -0.28x + 142624.49\""
   ]
  },
  {
   "cell_type": "code",
   "execution_count": 20,
   "id": "e7455c4b-4b5e-40fb-8964-ac09641d21bd",
   "metadata": {},
   "outputs": [],
   "source": [
    "# Calculating the predicted values of the output variable \"Profit\" using the co-efficients 'm' and 'c'\n",
    "\n",
    "profit_predicted = []\n",
    "for i in range(len(df['R&D Spend'])):\n",
    "    Y_pred = (-0.28 * df['R&D Spend'][i]) + 142624.49\n",
    "    profit_predicted.append(Y_pred)\n",
    "\n",
    "#print(len(profit_predicted))\n",
    "#print(profit_predicted) "
   ]
  },
  {
   "cell_type": "code",
   "execution_count": 22,
   "id": "885aed37-1789-49e7-8ecc-935f8fa7e7d6",
   "metadata": {},
   "outputs": [
    {
     "data": {
      "text/html": [
       "<div>\n",
       "<style scoped>\n",
       "    .dataframe tbody tr th:only-of-type {\n",
       "        vertical-align: middle;\n",
       "    }\n",
       "\n",
       "    .dataframe tbody tr th {\n",
       "        vertical-align: top;\n",
       "    }\n",
       "\n",
       "    .dataframe thead th {\n",
       "        text-align: right;\n",
       "    }\n",
       "</style>\n",
       "<table border=\"1\" class=\"dataframe\">\n",
       "  <thead>\n",
       "    <tr style=\"text-align: right;\">\n",
       "      <th></th>\n",
       "      <th>R&amp;D Spend</th>\n",
       "      <th>Administration</th>\n",
       "      <th>Marketing Spend</th>\n",
       "      <th>State</th>\n",
       "      <th>Profit</th>\n",
       "      <th>Profit_Predicted</th>\n",
       "    </tr>\n",
       "  </thead>\n",
       "  <tbody>\n",
       "    <tr>\n",
       "      <th>0</th>\n",
       "      <td>165349.20</td>\n",
       "      <td>136897.800</td>\n",
       "      <td>471784.1000</td>\n",
       "      <td>New York</td>\n",
       "      <td>192261.83000</td>\n",
       "      <td>96326.7140</td>\n",
       "    </tr>\n",
       "    <tr>\n",
       "      <th>1</th>\n",
       "      <td>162597.70</td>\n",
       "      <td>151377.590</td>\n",
       "      <td>443898.5300</td>\n",
       "      <td>California</td>\n",
       "      <td>191792.06000</td>\n",
       "      <td>97097.1340</td>\n",
       "    </tr>\n",
       "    <tr>\n",
       "      <th>2</th>\n",
       "      <td>153441.51</td>\n",
       "      <td>101145.550</td>\n",
       "      <td>407934.5400</td>\n",
       "      <td>Florida</td>\n",
       "      <td>191050.39000</td>\n",
       "      <td>99660.8672</td>\n",
       "    </tr>\n",
       "    <tr>\n",
       "      <th>3</th>\n",
       "      <td>144372.41</td>\n",
       "      <td>118671.850</td>\n",
       "      <td>383199.6200</td>\n",
       "      <td>New York</td>\n",
       "      <td>182901.99000</td>\n",
       "      <td>102200.2152</td>\n",
       "    </tr>\n",
       "    <tr>\n",
       "      <th>4</th>\n",
       "      <td>142107.34</td>\n",
       "      <td>91391.770</td>\n",
       "      <td>366168.4200</td>\n",
       "      <td>Florida</td>\n",
       "      <td>166187.94000</td>\n",
       "      <td>102834.4348</td>\n",
       "    </tr>\n",
       "    <tr>\n",
       "      <th>...</th>\n",
       "      <td>...</td>\n",
       "      <td>...</td>\n",
       "      <td>...</td>\n",
       "      <td>...</td>\n",
       "      <td>...</td>\n",
       "      <td>...</td>\n",
       "    </tr>\n",
       "    <tr>\n",
       "      <th>995</th>\n",
       "      <td>54135.00</td>\n",
       "      <td>118451.999</td>\n",
       "      <td>173232.6695</td>\n",
       "      <td>California</td>\n",
       "      <td>95279.96251</td>\n",
       "      <td>127466.6900</td>\n",
       "    </tr>\n",
       "    <tr>\n",
       "      <th>996</th>\n",
       "      <td>134970.00</td>\n",
       "      <td>130390.080</td>\n",
       "      <td>329204.0228</td>\n",
       "      <td>California</td>\n",
       "      <td>164336.60550</td>\n",
       "      <td>104832.8900</td>\n",
       "    </tr>\n",
       "    <tr>\n",
       "      <th>997</th>\n",
       "      <td>100275.47</td>\n",
       "      <td>241926.310</td>\n",
       "      <td>227142.8200</td>\n",
       "      <td>California</td>\n",
       "      <td>413956.48000</td>\n",
       "      <td>114547.3584</td>\n",
       "    </tr>\n",
       "    <tr>\n",
       "      <th>998</th>\n",
       "      <td>128456.23</td>\n",
       "      <td>321652.140</td>\n",
       "      <td>281692.3200</td>\n",
       "      <td>California</td>\n",
       "      <td>333962.19000</td>\n",
       "      <td>106656.7456</td>\n",
       "    </tr>\n",
       "    <tr>\n",
       "      <th>999</th>\n",
       "      <td>161181.72</td>\n",
       "      <td>270939.860</td>\n",
       "      <td>295442.1700</td>\n",
       "      <td>New York</td>\n",
       "      <td>476485.43000</td>\n",
       "      <td>97493.6084</td>\n",
       "    </tr>\n",
       "  </tbody>\n",
       "</table>\n",
       "<p>1000 rows × 6 columns</p>\n",
       "</div>"
      ],
      "text/plain": [
       "     R&D Spend  Administration  Marketing Spend       State        Profit  \\\n",
       "0    165349.20      136897.800      471784.1000    New York  192261.83000   \n",
       "1    162597.70      151377.590      443898.5300  California  191792.06000   \n",
       "2    153441.51      101145.550      407934.5400     Florida  191050.39000   \n",
       "3    144372.41      118671.850      383199.6200    New York  182901.99000   \n",
       "4    142107.34       91391.770      366168.4200     Florida  166187.94000   \n",
       "..         ...             ...              ...         ...           ...   \n",
       "995   54135.00      118451.999      173232.6695  California   95279.96251   \n",
       "996  134970.00      130390.080      329204.0228  California  164336.60550   \n",
       "997  100275.47      241926.310      227142.8200  California  413956.48000   \n",
       "998  128456.23      321652.140      281692.3200  California  333962.19000   \n",
       "999  161181.72      270939.860      295442.1700    New York  476485.43000   \n",
       "\n",
       "     Profit_Predicted  \n",
       "0          96326.7140  \n",
       "1          97097.1340  \n",
       "2          99660.8672  \n",
       "3         102200.2152  \n",
       "4         102834.4348  \n",
       "..                ...  \n",
       "995       127466.6900  \n",
       "996       104832.8900  \n",
       "997       114547.3584  \n",
       "998       106656.7456  \n",
       "999        97493.6084  \n",
       "\n",
       "[1000 rows x 6 columns]"
      ]
     },
     "execution_count": 22,
     "metadata": {},
     "output_type": "execute_result"
    }
   ],
   "source": [
    "# Adding a new column named \"Profit_Predicted\" to the dataframe\n",
    "\n",
    "df[\"Profit_Predicted\"] = profit_predicted\n",
    "df"
   ]
  },
  {
   "cell_type": "code",
   "execution_count": 33,
   "id": "d18d99ad-6d4a-4362-8377-0e72cead90b0",
   "metadata": {},
   "outputs": [
    {
     "data": {
      "text/plain": [
       "[<matplotlib.lines.Line2D at 0x11c811f40>]"
      ]
     },
     "execution_count": 33,
     "metadata": {},
     "output_type": "execute_result"
    },
    {
     "data": {
      "image/png": "[encoded data removed]",
      "text/plain": [
       "<Figure size 432x288 with 1 Axes>"
      ]
     },
     "metadata": {
      "needs_background": "light"
     },
     "output_type": "display_data"
    }
   ],
   "source": [
    "# Visualising the data and the linear regression line\n",
    "\n",
    "plt.scatter(x=df['R&D Spend'], y=df['Profit'])\n",
    "plt.plot(df['R&D Spend'], df['Profit_Predicted'], color='red')"
   ]
  },
  {
   "cell_type": "code",
   "execution_count": 37,
   "id": "f60562eb-b03c-4c9c-85b7-63e1c22dee8a",
   "metadata": {},
   "outputs": [
    {
     "name": "stdout",
     "output_type": "stream",
     "text": [
      "The predicted profit for a 'R&D Spend' of about 185000.00 is 90824.48999999999\n"
     ]
    }
   ],
   "source": [
    "# Sample profit prediction for a given value of \"R&D Spend\"\n",
    "\n",
    "# R&D Spend Value\n",
    "x = 185000.00\n",
    "\n",
    "# Profit prediction calculation as per the best fit linear equation for the regression model\n",
    "profit = (-0.28 * 185000) + 142624.49\n",
    "print(\"The predicted profit for a 'R&D Spend' of about 185000.00 is {}\".format(profit))"
   ]
  },
  {
   "cell_type": "code",
   "execution_count": null,
   "id": "c23b7251-8f9c-48be-bad4-a1b8d6e7798e",
   "metadata": {},
   "outputs": [],
   "source": []
  }
 ],
 "metadata": {
  "kernelspec": {
   "display_name": "Python 3",
   "language": "python",
   "name": "python3"
  },
  "language_info": {
   "codemirror_mode": {
    "name": "ipython",
    "version": 3
   },
   "file_extension": ".py",
   "mimetype": "text/x-python",
   "name": "python",
   "nbconvert_exporter": "python",
   "pygments_lexer": "ipython3",
   "version": "3.8.3"
  }
 },
 "nbformat": 4,
 "nbformat_minor": 5
}
